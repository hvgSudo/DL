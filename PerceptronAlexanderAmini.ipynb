{
 "cells": [
  {
   "cell_type": "code",
   "execution_count": 1,
   "metadata": {},
   "outputs": [
    {
     "name": "stderr",
     "output_type": "stream",
     "text": [
      "2022-04-04 10:40:39.983206: W tensorflow/stream_executor/platform/default/dso_loader.cc:64] Could not load dynamic library 'libcudart.so.11.0'; dlerror: libcudart.so.11.0: cannot open shared object file: No such file or directory\n",
      "2022-04-04 10:40:39.983263: I tensorflow/stream_executor/cuda/cudart_stub.cc:29] Ignore above cudart dlerror if you do not have a GPU set up on your machine.\n"
     ]
    }
   ],
   "source": [
    "import tensorflow as tf"
   ]
  },
  {
   "cell_type": "code",
   "execution_count": null,
   "metadata": {},
   "outputs": [],
   "source": [
    "# Dense layer from scratch\n",
    "\n",
    "class MyDenseLayer(tf.keras.layers.Layer):\n",
    "\n",
    "    def__init__(self, input_dim, output_dim):\n",
    "        super(MyDenseLayer, self).__init__()\n",
    "\n",
    "        # Initialize the weights and biases\n",
    "        self.W = self.add_weight([input_dim, output-dim])\n",
    "        self.b = self.add_weight([1, output_dim])\n",
    "\n",
    "    def call(self, inputs):\n",
    "        # Forward propagate the inputs\n",
    "        z = tf.matmul(inputs, self.W) + self.b\n",
    "\n",
    "        # Feed through a non-linear activation function\n",
    "        output = tf.math.sigmoid(z)\n",
    "\n",
    "        return output"
   ]
  },
  {
   "cell_type": "code",
   "execution_count": null,
   "metadata": {},
   "outputs": [],
   "source": [
    "# Dense layer using tensorflow\n",
    "\n",
    "# For two neurons\n",
    "layer = tf.keras.layers.Dense(units = 2)"
   ]
  },
  {
   "cell_type": "code",
   "execution_count": null,
   "metadata": {},
   "outputs": [],
   "source": [
    "# multi output perceptron using tensorflow\n",
    "\n",
    "model = tf.keras.Sequntial([\n",
    "    tf.keras.layers.Dense(n), # first layer with n neurons -> hidden layer\n",
    "    tf.keras.layers.Dense(2) # second layer with 2 neurons -> output layer\n",
    "])"
   ]
  },
  {
   "cell_type": "code",
   "execution_count": null,
   "metadata": {},
   "outputs": [],
   "source": [
    "# Deep Neural Network\n",
    "\n",
    "model = tf.keras.Sequential([\n",
    "    tf.keras.layers.Dense(n1),\n",
    "    tf.keras.layers.Dense(n2),\n",
    "    .\n",
    "    .\n",
    "    .\n",
    "    tf.keras.layers.Dense(2)\n",
    "])\n",
    "\n",
    "# Each layer has its specified number of neurons\n",
    "# with the last layer containing only 2 as the final output"
   ]
  },
  {
   "cell_type": "code",
   "execution_count": null,
   "metadata": {},
   "outputs": [],
   "source": [
    "# Softmax cross entropy loss\n",
    "# for binary classification\n",
    "\n",
    "loss = tf.reduce_mean(tf.nn.softmax_cross_entropy_with_logits(y, predicted))"
   ]
  },
  {
   "cell_type": "code",
   "execution_count": null,
   "metadata": {},
   "outputs": [],
   "source": [
    "# Mean Squared Error Loss\n",
    "\n",
    "loss = tf.reduce_mean(tf.square(tf.subtract(y, predicted)))\n",
    "loss = tf.keras.losses.MSE(y, predicted)"
   ]
  },
  {
   "cell_type": "code",
   "execution_count": null,
   "metadata": {},
   "outputs": [],
   "source": [
    "# Gradient Descent using tensorflow\n",
    "\n",
    "weights = tf.Variable([tf.random.normal()])\n",
    "\n",
    "while True:\n",
    "    with tf.GradientTape() as g:\n",
    "        loss = compute_loss(weights)\n",
    "        gradient = g.gradient(loss, weights) # computed using backpropagation\n",
    "\n",
    "    weights = weights - lr * gradient"
   ]
  },
  {
   "cell_type": "code",
   "execution_count": null,
   "metadata": {},
   "outputs": [],
   "source": [
    "# Optimizers implemented using tensorflow\n",
    "\n",
    "tf.keras.optimizers.SGD \n",
    "tf.keras.optimizers.Adam\n",
    "tf.keras.optimizers.Adadelta\n",
    "tf.keras.optimizers.Adagrad\n",
    "tf.keras.optimizers.RMSProp"
   ]
  },
  {
   "cell_type": "code",
   "execution_count": null,
   "metadata": {},
   "outputs": [],
   "source": [
    "# Blueprint of perceptron\n",
    "\n",
    "model = tf.keras.Sequential([...])\n",
    "\n",
    "# Choosing optimizer\n",
    "optimizer = tf.keras.optimizer.SGD()\n",
    "\n",
    "while True:\n",
    "\n",
    "    # forward propagation\n",
    "    prediction = model(x)\n",
    "\n",
    "    with tf.GradientTape() as tape:\n",
    "        # compute the loss\n",
    "        loss = compute_loss(y, prediction)\n",
    "\n",
    "    # update hte weights using the gradient\n",
    "    grads = tape.gradient(loss, model.trainable_variables)\n",
    "    optimizer.apply_gradients(zip(grads, model.trainable_variables))"
   ]
  },
  {
   "cell_type": "code",
   "execution_count": null,
   "metadata": {},
   "outputs": [],
   "source": [
    "# Dropout layer\n",
    "\n",
    "# Dropping 50% of activations in layer\n",
    "tf.keras.layers.Dropout(p = 0.5) "
   ]
  }
 ],
 "metadata": {
  "interpreter": {
   "hash": "916dbcbb3f70747c44a77c7bcd40155683ae19c65e1c03b4aa3499c5328201f1"
  },
  "kernelspec": {
   "display_name": "Python 3.8.10 64-bit",
   "language": "python",
   "name": "python3"
  },
  "language_info": {
   "codemirror_mode": {
    "name": "ipython",
    "version": 3
   },
   "file_extension": ".py",
   "mimetype": "text/x-python",
   "name": "python",
   "nbconvert_exporter": "python",
   "pygments_lexer": "ipython3",
   "version": "3.8.10"
  },
  "orig_nbformat": 4
 },
 "nbformat": 4,
 "nbformat_minor": 2
}
