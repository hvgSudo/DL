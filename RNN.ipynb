{
 "cells": [
  {
   "cell_type": "code",
   "execution_count": null,
   "metadata": {},
   "outputs": [],
   "source": [
    "# RNN Pseudo Code\n",
    "\n",
    "my_rnn = RNN()\n",
    "hidden_state = [0,0,0,0]\n",
    "\n",
    "sentence = ['I', 'love', 'recurrent', 'neural']\n",
    "\n",
    "for word in sentence:\n",
    "    prediction, hidden_state = my_rnn(word, hidden_state)\n",
    "\n",
    "next_word_prediction = prediction"
   ]
  },
  {
   "cell_type": "code",
   "execution_count": null,
   "metadata": {},
   "outputs": [],
   "source": [
    "# RNN from Scratch\n",
    "\n",
    "class MyRNNCell(tf.keras.layers.Layer):\n",
    "\n",
    "    def __init__(self, rnn_units, input_dim, output_dim):\n",
    "        super(MyRNNCell, self).__init__()\n",
    "\n",
    "        # initialize weight matrices\n",
    "        self.W_xh = self.add_weight([rnn_units, input_dim])\n",
    "        self.W_hh = self.add_weight([rnn_units, rnn_units])\n",
    "        self.W_hy = self.add_weight([output_dim, rnn_units])\n",
    "\n",
    "        # initialize hidden state to zeroes\n",
    "        self.h = tf.zeroes([rnn_units, 1])\n",
    "\n",
    "    def call(self, x):\n",
    "\n",
    "        # Update the hidden state\n",
    "        self.h = tf.meath.tanh(self.W_hh * self.h + self.W_xh * x)\n",
    "\n",
    "        # Compute the output\n",
    "        output = self.W_hy * self.h\n",
    "\n",
    "        # Return the current output and hidden state\n",
    "        return output, self.h"
   ]
  },
  {
   "cell_type": "code",
   "execution_count": null,
   "metadata": {},
   "outputs": [],
   "source": [
    "# RNN using tensorflow\n",
    "tf.keras.layers.SimpleRNN(rnn_units)"
   ]
  },
  {
   "cell_type": "code",
   "execution_count": null,
   "metadata": {},
   "outputs": [],
   "source": [
    "# LSTM using tensorflow\n",
    "tf.keras.layers.LSTM(num_units)"
   ]
  },
  {
   "cell_type": "code",
   "execution_count": null,
   "metadata": {},
   "outputs": [],
   "source": [
    "# loss\n",
    "loss = tf.nn.softmax_cross_entrpy_with_logits(y, predicted)"
   ]
  }
 ],
 "metadata": {
  "interpreter": {
   "hash": "916dbcbb3f70747c44a77c7bcd40155683ae19c65e1c03b4aa3499c5328201f1"
  },
  "kernelspec": {
   "display_name": "Python 3.8.10 64-bit",
   "language": "python",
   "name": "python3"
  },
  "language_info": {
   "name": "python",
   "version": "3.8.10"
  },
  "orig_nbformat": 4
 },
 "nbformat": 4,
 "nbformat_minor": 2
}
